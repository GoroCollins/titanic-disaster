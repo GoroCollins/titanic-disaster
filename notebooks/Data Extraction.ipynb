{
 "cells": [
  {
   "cell_type": "markdown",
   "id": "1b2b4771",
   "metadata": {},
   "source": [
    "# Extracting Titanic Data From Kaggle"
   ]
  },
  {
   "cell_type": "code",
   "execution_count": 1,
   "id": "d327ab19",
   "metadata": {},
   "outputs": [
    {
     "name": "stdout",
     "output_type": "stream",
     "text": [
      "Requirement already satisfied: python-dotenv in c:\\users\\cgoro\\anaconda3\\lib\\site-packages (0.19.1)\n"
     ]
    }
   ],
   "source": [
    "!pip install python-dotenv"
   ]
  },
  {
   "cell_type": "code",
   "execution_count": 2,
   "id": "3aabea1c",
   "metadata": {},
   "outputs": [],
   "source": [
    "from dotenv import load_dotenv, find_dotenv"
   ]
  },
  {
   "cell_type": "code",
   "execution_count": 3,
   "id": "0198efc9",
   "metadata": {},
   "outputs": [
    {
     "data": {
      "text/plain": [
       "True"
      ]
     },
     "execution_count": 3,
     "metadata": {},
     "output_type": "execute_result"
    }
   ],
   "source": [
    "# find .env automatically by walking up the directories untill it's found\n",
    "dotenv_path = find_dotenv()\n",
    "# load up the entries as environment variables\n",
    "load_dotenv(dotenv_path)"
   ]
  },
  {
   "cell_type": "code",
   "execution_count": 4,
   "id": "21a3668a",
   "metadata": {},
   "outputs": [
    {
     "name": "stdout",
     "output_type": "stream",
     "text": [
      "collinsgoro\n"
     ]
    }
   ],
   "source": [
    "# extracting environment variables using os module\n",
    "import os\n",
    "username = os.environ.get(\"kaggle_username\")\n",
    "print(username)"
   ]
  },
  {
   "cell_type": "code",
   "execution_count": 5,
   "id": "59a29eed",
   "metadata": {},
   "outputs": [],
   "source": [
    "import requests\n",
    "from requests import session"
   ]
  },
  {
   "cell_type": "code",
   "execution_count": 6,
   "id": "bb52e3b6",
   "metadata": {},
   "outputs": [],
   "source": [
    "import kaggle"
   ]
  },
  {
   "cell_type": "code",
   "execution_count": 7,
   "id": "1224213a",
   "metadata": {},
   "outputs": [
    {
     "name": "stdout",
     "output_type": "stream",
     "text": [
      "Downloading titanic.zip to C:\\Users\\cgoro\\titanic\\notebooks\n",
      "\n"
     ]
    },
    {
     "name": "stderr",
     "output_type": "stream",
     "text": [
      "\n",
      "  0%|          | 0.00/34.1k [00:00<?, ?B/s]\n",
      "100%|##########| 34.1k/34.1k [00:00<00:00, 95.7kB/s]\n",
      "100%|##########| 34.1k/34.1k [00:00<00:00, 95.5kB/s]\n"
     ]
    }
   ],
   "source": [
    "!kaggle competitions download -c titanic"
   ]
  },
  {
   "cell_type": "code",
   "execution_count": 8,
   "id": "54686c7d",
   "metadata": {},
   "outputs": [
    {
     "name": "stdout",
     "output_type": "stream",
     "text": [
      "No competition specified\n"
     ]
    }
   ],
   "source": [
    "!kaggle competitions download -f train.csv"
   ]
  },
  {
   "cell_type": "code",
   "execution_count": 14,
   "id": "89b1bc6e",
   "metadata": {},
   "outputs": [
    {
     "name": "stdout",
     "output_type": "stream",
     "text": [
      "Downloading train.csv to C:\\\\Users\\\\cgoro\\\\titanic\\\\data\\\\raw\n",
      "\n"
     ]
    },
    {
     "name": "stderr",
     "output_type": "stream",
     "text": [
      "\n",
      "  0%|          | 0.00/59.8k [00:00<?, ?B/s]\n",
      "100%|##########| 59.8k/59.8k [00:00<00:00, 91.7kB/s]\n",
      "100%|##########| 59.8k/59.8k [00:00<00:00, 91.6kB/s]\n"
     ]
    }
   ],
   "source": [
    "!kaggle competitions download -c titanic -f train.csv -p \"C:\\\\Users\\\\cgoro\\\\titanic\\\\data\\\\raw\""
   ]
  },
  {
   "cell_type": "code",
   "execution_count": 15,
   "id": "95198387",
   "metadata": {},
   "outputs": [
    {
     "name": "stdout",
     "output_type": "stream",
     "text": [
      "Downloading test.csv to C:\\\\Users\\\\cgoro\\\\titanic\\\\data\\\\raw\n",
      "\n"
     ]
    },
    {
     "name": "stderr",
     "output_type": "stream",
     "text": [
      "\n",
      "  0%|          | 0.00/28.0k [00:00<?, ?B/s]\n",
      "100%|##########| 28.0k/28.0k [00:00<00:00, 51.7kB/s]\n",
      "100%|##########| 28.0k/28.0k [00:00<00:00, 51.6kB/s]\n"
     ]
    }
   ],
   "source": [
    "!kaggle competitions download -c titanic -f test.csv -p \"C:\\\\Users\\\\cgoro\\\\titanic\\\\data\\\\raw\""
   ]
  },
  {
   "cell_type": "code",
   "execution_count": 7,
   "id": "07a06fe8",
   "metadata": {},
   "outputs": [],
   "source": [
    "import numpy as np\n",
    "import pandas as pd"
   ]
  },
  {
   "cell_type": "code",
   "execution_count": null,
   "id": "fa4d3f00",
   "metadata": {},
   "outputs": [],
   "source": []
  }
 ],
 "metadata": {
  "kernelspec": {
   "display_name": "Python 3",
   "language": "python",
   "name": "python3"
  },
  "language_info": {
   "codemirror_mode": {
    "name": "ipython",
    "version": 3
   },
   "file_extension": ".py",
   "mimetype": "text/x-python",
   "name": "python",
   "nbconvert_exporter": "python",
   "pygments_lexer": "ipython3",
   "version": "3.8.8"
  }
 },
 "nbformat": 4,
 "nbformat_minor": 5
}
